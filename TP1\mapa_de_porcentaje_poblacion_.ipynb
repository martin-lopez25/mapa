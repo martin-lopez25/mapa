{
  "cells": [
    {
      "cell_type": "markdown",
      "metadata": {
        "id": "view-in-github",
        "colab_type": "text"
      },
      "source": [
        "<a href=\"https://colab.research.google.com/github/martin-lopez25/mapa/blob/main/TP1%5Cmapa_de_porcentaje_poblacion_.ipynb\" target=\"_parent\"><img src=\"https://colab.research.google.com/assets/colab-badge.svg\" alt=\"Open In Colab\"/></a>"
      ]
    },
    {
      "cell_type": "markdown",
      "metadata": {
        "id": "Y_1C6bSyDF5E"
      },
      "source": [
        "#Mapa de porcentaje de poblacion sin acceso"
      ]
    },
    {
      "cell_type": "code",
      "execution_count": null,
      "metadata": {
        "colab": {
          "base_uri": "https://localhost:8080/"
        },
        "id": "jQV-WZ9n2_TF",
        "outputId": "ec4827ec-7147-4947-8d3c-f639500bad85"
      },
      "outputs": [
        {
          "name": "stdout",
          "output_type": "stream",
          "text": [
            "Requirement already satisfied: geopandas in /usr/local/lib/python3.11/dist-packages (1.0.1)\n",
            "Requirement already satisfied: folium in /usr/local/lib/python3.11/dist-packages (0.19.5)\n",
            "Requirement already satisfied: numpy>=1.22 in /usr/local/lib/python3.11/dist-packages (from geopandas) (1.26.4)\n",
            "Requirement already satisfied: pyogrio>=0.7.2 in /usr/local/lib/python3.11/dist-packages (from geopandas) (0.10.0)\n",
            "Requirement already satisfied: packaging in /usr/local/lib/python3.11/dist-packages (from geopandas) (24.2)\n",
            "Requirement already satisfied: pandas>=1.4.0 in /usr/local/lib/python3.11/dist-packages (from geopandas) (2.2.2)\n",
            "Requirement already satisfied: pyproj>=3.3.0 in /usr/local/lib/python3.11/dist-packages (from geopandas) (3.7.1)\n",
            "Requirement already satisfied: shapely>=2.0.0 in /usr/local/lib/python3.11/dist-packages (from geopandas) (2.0.7)\n",
            "Requirement already satisfied: branca>=0.6.0 in /usr/local/lib/python3.11/dist-packages (from folium) (0.8.1)\n",
            "Requirement already satisfied: jinja2>=2.9 in /usr/local/lib/python3.11/dist-packages (from folium) (3.1.5)\n",
            "Requirement already satisfied: requests in /usr/local/lib/python3.11/dist-packages (from folium) (2.32.3)\n",
            "Requirement already satisfied: xyzservices in /usr/local/lib/python3.11/dist-packages (from folium) (2025.1.0)\n",
            "Requirement already satisfied: MarkupSafe>=2.0 in /usr/local/lib/python3.11/dist-packages (from jinja2>=2.9->folium) (3.0.2)\n",
            "Requirement already satisfied: python-dateutil>=2.8.2 in /usr/local/lib/python3.11/dist-packages (from pandas>=1.4.0->geopandas) (2.8.2)\n",
            "Requirement already satisfied: pytz>=2020.1 in /usr/local/lib/python3.11/dist-packages (from pandas>=1.4.0->geopandas) (2025.1)\n",
            "Requirement already satisfied: tzdata>=2022.7 in /usr/local/lib/python3.11/dist-packages (from pandas>=1.4.0->geopandas) (2025.1)\n",
            "Requirement already satisfied: certifi in /usr/local/lib/python3.11/dist-packages (from pyogrio>=0.7.2->geopandas) (2025.1.31)\n",
            "Requirement already satisfied: charset-normalizer<4,>=2 in /usr/local/lib/python3.11/dist-packages (from requests->folium) (3.4.1)\n",
            "Requirement already satisfied: idna<4,>=2.5 in /usr/local/lib/python3.11/dist-packages (from requests->folium) (3.10)\n",
            "Requirement already satisfied: urllib3<3,>=1.21.1 in /usr/local/lib/python3.11/dist-packages (from requests->folium) (2.3.0)\n",
            "Requirement already satisfied: six>=1.5 in /usr/local/lib/python3.11/dist-packages (from python-dateutil>=2.8.2->pandas>=1.4.0->geopandas) (1.17.0)\n"
          ]
        }
      ],
      "source": [
        "!pip install geopandas folium"
      ]
    },
    {
      "cell_type": "code",
      "execution_count": null,
      "metadata": {
        "id": "_gPocWru5a0n"
      },
      "outputs": [],
      "source": [
        "import pandas as pd\n",
        "import folium\n",
        "import geopandas as gpd\n",
        "import matplotlib.pyplot as plt\n",
        "from IPython.display import display\n",
        "from google.colab import files"
      ]
    },
    {
      "cell_type": "code",
      "execution_count": null,
      "metadata": {
        "id": "OC1LuSLw3JoC"
      },
      "outputs": [],
      "source": [
        "gdf = gpd.read_file(\"/content/drive/MyDrive/mapas/shape_entidades_MGN2020.gpkg\")\n",
        "layers = gpd.read_file(\"/content/drive/MyDrive/mapas/shape_entidades_MGN2020.gpkg\").keys()\n",
        "poblacion=pd.read_csv('/content/drive/MyDrive/mapas/poblacion /Población Total y población sin derechohabiencia por estado.csv')"
      ]
    },
    {
      "cell_type": "code",
      "execution_count": null,
      "metadata": {
        "id": "uNZg9KjN4Te8",
        "colab": {
          "base_uri": "https://localhost:8080/"
        },
        "outputId": "b64ee949-e30e-4590-cc7e-971f9f6ccb78"
      },
      "outputs": [
        {
          "output_type": "stream",
          "name": "stdout",
          "text": [
            "  CVEGEO CVE_ENT                NOMGEO  \\\n",
            "0     01      01        Aguascalientes   \n",
            "1     02      02       Baja California   \n",
            "2     03      03   Baja California Sur   \n",
            "3     04      04              Campeche   \n",
            "4     05      05  Coahuila de Zaragoza   \n",
            "\n",
            "                                            geometry  \n",
            "0  MULTIPOLYGON (((-102.29739 22.45527, -102.2955...  \n",
            "1  MULTIPOLYGON (((-114.11561 28.09639, -114.1152...  \n",
            "2  MULTIPOLYGON (((-109.89451 22.87476, -109.8946...  \n",
            "3  MULTIPOLYGON (((-91.9565 20.197, -91.95636 20....  \n",
            "4  MULTIPOLYGON (((-102.31549 29.88, -102.31509 2...  \n",
            "Capas disponibles: Index(['CVEGEO', 'CVE_ENT', 'NOMGEO', 'geometry'], dtype='object')\n",
            "<class 'geopandas.geodataframe.GeoDataFrame'>\n",
            "RangeIndex: 32 entries, 0 to 31\n",
            "Data columns (total 4 columns):\n",
            " #   Column    Non-Null Count  Dtype   \n",
            "---  ------    --------------  -----   \n",
            " 0   CVEGEO    32 non-null     object  \n",
            " 1   CVE_ENT   32 non-null     object  \n",
            " 2   NOMGEO    32 non-null     object  \n",
            " 3   geometry  32 non-null     geometry\n",
            "dtypes: geometry(1), object(3)\n",
            "memory usage: 1.1+ KB\n"
          ]
        }
      ],
      "source": [
        "# Muestra las primeras filas\n",
        "print(gdf.head())\n",
        "print(\"Capas disponibles:\", layers)\n",
        "gdf.to_file(\"nuevo_archivo.gpkg\", driver=\"GPKG\")\n",
        "gdf.head()\n",
        "gdf.info()"
      ]
    },
    {
      "cell_type": "code",
      "execution_count": null,
      "metadata": {
        "colab": {
          "base_uri": "https://localhost:8080/",
          "height": 223
        },
        "id": "lloloXtt49Vo",
        "outputId": "39ba7cc0-1dcf-4b81-b438-2574c1ed2727"
      },
      "outputs": [
        {
          "output_type": "stream",
          "name": "stdout",
          "text": [
            "(33, 8)\n"
          ]
        },
        {
          "output_type": "execute_result",
          "data": {
            "text/plain": [
              "   entidad              nom_ent     pobtot  pder_imssb  pder_segp   psinder  \\\n",
              "0        0       Total nacional  126014024      958787   32842765  32999713   \n",
              "1        1       Aguascalientes    1425607        1680     271996    262088   \n",
              "2        2      Baja California    3769020       19862     515855    836317   \n",
              "3        3  Baja California Sur     798447        3576     139342    129270   \n",
              "4        4             Campeche     928363        8950     327334    203304   \n",
              "\n",
              "   pob_sin_acceso  porcentaje_sin_acceso  \n",
              "0        66801265              53.010977  \n",
              "1          535764              37.581465  \n",
              "2         1372034              36.402938  \n",
              "3          272188              34.089677  \n",
              "4          539588              58.122523  "
            ],
            "text/html": [
              "\n",
              "  <div id=\"df-007cc3eb-6ec5-4af8-8c21-e2365871c3f5\" class=\"colab-df-container\">\n",
              "    <div>\n",
              "<style scoped>\n",
              "    .dataframe tbody tr th:only-of-type {\n",
              "        vertical-align: middle;\n",
              "    }\n",
              "\n",
              "    .dataframe tbody tr th {\n",
              "        vertical-align: top;\n",
              "    }\n",
              "\n",
              "    .dataframe thead th {\n",
              "        text-align: right;\n",
              "    }\n",
              "</style>\n",
              "<table border=\"1\" class=\"dataframe\">\n",
              "  <thead>\n",
              "    <tr style=\"text-align: right;\">\n",
              "      <th></th>\n",
              "      <th>entidad</th>\n",
              "      <th>nom_ent</th>\n",
              "      <th>pobtot</th>\n",
              "      <th>pder_imssb</th>\n",
              "      <th>pder_segp</th>\n",
              "      <th>psinder</th>\n",
              "      <th>pob_sin_acceso</th>\n",
              "      <th>porcentaje_sin_acceso</th>\n",
              "    </tr>\n",
              "  </thead>\n",
              "  <tbody>\n",
              "    <tr>\n",
              "      <th>0</th>\n",
              "      <td>0</td>\n",
              "      <td>Total nacional</td>\n",
              "      <td>126014024</td>\n",
              "      <td>958787</td>\n",
              "      <td>32842765</td>\n",
              "      <td>32999713</td>\n",
              "      <td>66801265</td>\n",
              "      <td>53.010977</td>\n",
              "    </tr>\n",
              "    <tr>\n",
              "      <th>1</th>\n",
              "      <td>1</td>\n",
              "      <td>Aguascalientes</td>\n",
              "      <td>1425607</td>\n",
              "      <td>1680</td>\n",
              "      <td>271996</td>\n",
              "      <td>262088</td>\n",
              "      <td>535764</td>\n",
              "      <td>37.581465</td>\n",
              "    </tr>\n",
              "    <tr>\n",
              "      <th>2</th>\n",
              "      <td>2</td>\n",
              "      <td>Baja California</td>\n",
              "      <td>3769020</td>\n",
              "      <td>19862</td>\n",
              "      <td>515855</td>\n",
              "      <td>836317</td>\n",
              "      <td>1372034</td>\n",
              "      <td>36.402938</td>\n",
              "    </tr>\n",
              "    <tr>\n",
              "      <th>3</th>\n",
              "      <td>3</td>\n",
              "      <td>Baja California Sur</td>\n",
              "      <td>798447</td>\n",
              "      <td>3576</td>\n",
              "      <td>139342</td>\n",
              "      <td>129270</td>\n",
              "      <td>272188</td>\n",
              "      <td>34.089677</td>\n",
              "    </tr>\n",
              "    <tr>\n",
              "      <th>4</th>\n",
              "      <td>4</td>\n",
              "      <td>Campeche</td>\n",
              "      <td>928363</td>\n",
              "      <td>8950</td>\n",
              "      <td>327334</td>\n",
              "      <td>203304</td>\n",
              "      <td>539588</td>\n",
              "      <td>58.122523</td>\n",
              "    </tr>\n",
              "  </tbody>\n",
              "</table>\n",
              "</div>\n",
              "    <div class=\"colab-df-buttons\">\n",
              "\n",
              "  <div class=\"colab-df-container\">\n",
              "    <button class=\"colab-df-convert\" onclick=\"convertToInteractive('df-007cc3eb-6ec5-4af8-8c21-e2365871c3f5')\"\n",
              "            title=\"Convert this dataframe to an interactive table.\"\n",
              "            style=\"display:none;\">\n",
              "\n",
              "  <svg xmlns=\"http://www.w3.org/2000/svg\" height=\"24px\" viewBox=\"0 -960 960 960\">\n",
              "    <path d=\"M120-120v-720h720v720H120Zm60-500h600v-160H180v160Zm220 220h160v-160H400v160Zm0 220h160v-160H400v160ZM180-400h160v-160H180v160Zm440 0h160v-160H620v160ZM180-180h160v-160H180v160Zm440 0h160v-160H620v160Z\"/>\n",
              "  </svg>\n",
              "    </button>\n",
              "\n",
              "  <style>\n",
              "    .colab-df-container {\n",
              "      display:flex;\n",
              "      gap: 12px;\n",
              "    }\n",
              "\n",
              "    .colab-df-convert {\n",
              "      background-color: #E8F0FE;\n",
              "      border: none;\n",
              "      border-radius: 50%;\n",
              "      cursor: pointer;\n",
              "      display: none;\n",
              "      fill: #1967D2;\n",
              "      height: 32px;\n",
              "      padding: 0 0 0 0;\n",
              "      width: 32px;\n",
              "    }\n",
              "\n",
              "    .colab-df-convert:hover {\n",
              "      background-color: #E2EBFA;\n",
              "      box-shadow: 0px 1px 2px rgba(60, 64, 67, 0.3), 0px 1px 3px 1px rgba(60, 64, 67, 0.15);\n",
              "      fill: #174EA6;\n",
              "    }\n",
              "\n",
              "    .colab-df-buttons div {\n",
              "      margin-bottom: 4px;\n",
              "    }\n",
              "\n",
              "    [theme=dark] .colab-df-convert {\n",
              "      background-color: #3B4455;\n",
              "      fill: #D2E3FC;\n",
              "    }\n",
              "\n",
              "    [theme=dark] .colab-df-convert:hover {\n",
              "      background-color: #434B5C;\n",
              "      box-shadow: 0px 1px 3px 1px rgba(0, 0, 0, 0.15);\n",
              "      filter: drop-shadow(0px 1px 2px rgba(0, 0, 0, 0.3));\n",
              "      fill: #FFFFFF;\n",
              "    }\n",
              "  </style>\n",
              "\n",
              "    <script>\n",
              "      const buttonEl =\n",
              "        document.querySelector('#df-007cc3eb-6ec5-4af8-8c21-e2365871c3f5 button.colab-df-convert');\n",
              "      buttonEl.style.display =\n",
              "        google.colab.kernel.accessAllowed ? 'block' : 'none';\n",
              "\n",
              "      async function convertToInteractive(key) {\n",
              "        const element = document.querySelector('#df-007cc3eb-6ec5-4af8-8c21-e2365871c3f5');\n",
              "        const dataTable =\n",
              "          await google.colab.kernel.invokeFunction('convertToInteractive',\n",
              "                                                    [key], {});\n",
              "        if (!dataTable) return;\n",
              "\n",
              "        const docLinkHtml = 'Like what you see? Visit the ' +\n",
              "          '<a target=\"_blank\" href=https://colab.research.google.com/notebooks/data_table.ipynb>data table notebook</a>'\n",
              "          + ' to learn more about interactive tables.';\n",
              "        element.innerHTML = '';\n",
              "        dataTable['output_type'] = 'display_data';\n",
              "        await google.colab.output.renderOutput(dataTable, element);\n",
              "        const docLink = document.createElement('div');\n",
              "        docLink.innerHTML = docLinkHtml;\n",
              "        element.appendChild(docLink);\n",
              "      }\n",
              "    </script>\n",
              "  </div>\n",
              "\n",
              "\n",
              "<div id=\"df-1fbfb84d-337a-43ee-918b-42af8a203f11\">\n",
              "  <button class=\"colab-df-quickchart\" onclick=\"quickchart('df-1fbfb84d-337a-43ee-918b-42af8a203f11')\"\n",
              "            title=\"Suggest charts\"\n",
              "            style=\"display:none;\">\n",
              "\n",
              "<svg xmlns=\"http://www.w3.org/2000/svg\" height=\"24px\"viewBox=\"0 0 24 24\"\n",
              "     width=\"24px\">\n",
              "    <g>\n",
              "        <path d=\"M19 3H5c-1.1 0-2 .9-2 2v14c0 1.1.9 2 2 2h14c1.1 0 2-.9 2-2V5c0-1.1-.9-2-2-2zM9 17H7v-7h2v7zm4 0h-2V7h2v10zm4 0h-2v-4h2v4z\"/>\n",
              "    </g>\n",
              "</svg>\n",
              "  </button>\n",
              "\n",
              "<style>\n",
              "  .colab-df-quickchart {\n",
              "      --bg-color: #E8F0FE;\n",
              "      --fill-color: #1967D2;\n",
              "      --hover-bg-color: #E2EBFA;\n",
              "      --hover-fill-color: #174EA6;\n",
              "      --disabled-fill-color: #AAA;\n",
              "      --disabled-bg-color: #DDD;\n",
              "  }\n",
              "\n",
              "  [theme=dark] .colab-df-quickchart {\n",
              "      --bg-color: #3B4455;\n",
              "      --fill-color: #D2E3FC;\n",
              "      --hover-bg-color: #434B5C;\n",
              "      --hover-fill-color: #FFFFFF;\n",
              "      --disabled-bg-color: #3B4455;\n",
              "      --disabled-fill-color: #666;\n",
              "  }\n",
              "\n",
              "  .colab-df-quickchart {\n",
              "    background-color: var(--bg-color);\n",
              "    border: none;\n",
              "    border-radius: 50%;\n",
              "    cursor: pointer;\n",
              "    display: none;\n",
              "    fill: var(--fill-color);\n",
              "    height: 32px;\n",
              "    padding: 0;\n",
              "    width: 32px;\n",
              "  }\n",
              "\n",
              "  .colab-df-quickchart:hover {\n",
              "    background-color: var(--hover-bg-color);\n",
              "    box-shadow: 0 1px 2px rgba(60, 64, 67, 0.3), 0 1px 3px 1px rgba(60, 64, 67, 0.15);\n",
              "    fill: var(--button-hover-fill-color);\n",
              "  }\n",
              "\n",
              "  .colab-df-quickchart-complete:disabled,\n",
              "  .colab-df-quickchart-complete:disabled:hover {\n",
              "    background-color: var(--disabled-bg-color);\n",
              "    fill: var(--disabled-fill-color);\n",
              "    box-shadow: none;\n",
              "  }\n",
              "\n",
              "  .colab-df-spinner {\n",
              "    border: 2px solid var(--fill-color);\n",
              "    border-color: transparent;\n",
              "    border-bottom-color: var(--fill-color);\n",
              "    animation:\n",
              "      spin 1s steps(1) infinite;\n",
              "  }\n",
              "\n",
              "  @keyframes spin {\n",
              "    0% {\n",
              "      border-color: transparent;\n",
              "      border-bottom-color: var(--fill-color);\n",
              "      border-left-color: var(--fill-color);\n",
              "    }\n",
              "    20% {\n",
              "      border-color: transparent;\n",
              "      border-left-color: var(--fill-color);\n",
              "      border-top-color: var(--fill-color);\n",
              "    }\n",
              "    30% {\n",
              "      border-color: transparent;\n",
              "      border-left-color: var(--fill-color);\n",
              "      border-top-color: var(--fill-color);\n",
              "      border-right-color: var(--fill-color);\n",
              "    }\n",
              "    40% {\n",
              "      border-color: transparent;\n",
              "      border-right-color: var(--fill-color);\n",
              "      border-top-color: var(--fill-color);\n",
              "    }\n",
              "    60% {\n",
              "      border-color: transparent;\n",
              "      border-right-color: var(--fill-color);\n",
              "    }\n",
              "    80% {\n",
              "      border-color: transparent;\n",
              "      border-right-color: var(--fill-color);\n",
              "      border-bottom-color: var(--fill-color);\n",
              "    }\n",
              "    90% {\n",
              "      border-color: transparent;\n",
              "      border-bottom-color: var(--fill-color);\n",
              "    }\n",
              "  }\n",
              "</style>\n",
              "\n",
              "  <script>\n",
              "    async function quickchart(key) {\n",
              "      const quickchartButtonEl =\n",
              "        document.querySelector('#' + key + ' button');\n",
              "      quickchartButtonEl.disabled = true;  // To prevent multiple clicks.\n",
              "      quickchartButtonEl.classList.add('colab-df-spinner');\n",
              "      try {\n",
              "        const charts = await google.colab.kernel.invokeFunction(\n",
              "            'suggestCharts', [key], {});\n",
              "      } catch (error) {\n",
              "        console.error('Error during call to suggestCharts:', error);\n",
              "      }\n",
              "      quickchartButtonEl.classList.remove('colab-df-spinner');\n",
              "      quickchartButtonEl.classList.add('colab-df-quickchart-complete');\n",
              "    }\n",
              "    (() => {\n",
              "      let quickchartButtonEl =\n",
              "        document.querySelector('#df-1fbfb84d-337a-43ee-918b-42af8a203f11 button');\n",
              "      quickchartButtonEl.style.display =\n",
              "        google.colab.kernel.accessAllowed ? 'block' : 'none';\n",
              "    })();\n",
              "  </script>\n",
              "</div>\n",
              "\n",
              "    </div>\n",
              "  </div>\n"
            ],
            "application/vnd.google.colaboratory.intrinsic+json": {
              "type": "dataframe",
              "variable_name": "poblacion",
              "summary": "{\n  \"name\": \"poblacion\",\n  \"rows\": 33,\n  \"fields\": [\n    {\n      \"column\": \"entidad\",\n      \"properties\": {\n        \"dtype\": \"number\",\n        \"std\": 9,\n        \"min\": 0,\n        \"max\": 32,\n        \"num_unique_values\": 33,\n        \"samples\": [\n          31,\n          15,\n          26\n        ],\n        \"semantic_type\": \"\",\n        \"description\": \"\"\n      }\n    },\n    {\n      \"column\": \"nom_ent\",\n      \"properties\": {\n        \"dtype\": \"string\",\n        \"num_unique_values\": 33,\n        \"samples\": [\n          \"Yucat\\u00e1n\",\n          \"M\\u00e9xico\",\n          \"Sonora\"\n        ],\n        \"semantic_type\": \"\",\n        \"description\": \"\"\n      }\n    },\n    {\n      \"column\": \"pobtot\",\n      \"properties\": {\n        \"dtype\": \"number\",\n        \"std\": 21494245,\n        \"min\": 731391,\n        \"max\": 126014024,\n        \"num_unique_values\": 33,\n        \"samples\": [\n          2320898,\n          16992418,\n          2944840\n        ],\n        \"semantic_type\": \"\",\n        \"description\": \"\"\n      }\n    },\n    {\n      \"column\": \"pder_imssb\",\n      \"properties\": {\n        \"dtype\": \"number\",\n        \"std\": 165488,\n        \"min\": 1680,\n        \"max\": 958787,\n        \"num_unique_values\": 33,\n        \"samples\": [\n          26576,\n          66031,\n          10138\n        ],\n        \"semantic_type\": \"\",\n        \"description\": \"\"\n      }\n    },\n    {\n      \"column\": \"pder_segp\",\n      \"properties\": {\n        \"dtype\": \"number\",\n        \"std\": 5605111,\n        \"min\": 139342,\n        \"max\": 32842765,\n        \"num_unique_values\": 33,\n        \"samples\": [\n          628098,\n          3449337,\n          465170\n        ],\n        \"semantic_type\": \"\",\n        \"description\": \"\"\n      }\n    },\n    {\n      \"column\": \"psinder\",\n      \"properties\": {\n        \"dtype\": \"number\",\n        \"std\": 5666536,\n        \"min\": 123074,\n        \"max\": 32999713,\n        \"num_unique_values\": 33,\n        \"samples\": [\n          505108,\n          5672574,\n          547727\n        ],\n        \"semantic_type\": \"\",\n        \"description\": \"\"\n      }\n    },\n    {\n      \"column\": \"pob_sin_acceso\",\n      \"properties\": {\n        \"dtype\": \"number\",\n        \"std\": 11417102,\n        \"min\": 272188,\n        \"max\": 66801265,\n        \"num_unique_values\": 33,\n        \"samples\": [\n          1159782,\n          9187942,\n          1023035\n        ],\n        \"semantic_type\": \"\",\n        \"description\": \"\"\n      }\n    },\n    {\n      \"column\": \"porcentaje_sin_acceso\",\n      \"properties\": {\n        \"dtype\": \"number\",\n        \"std\": 14.703658150689394,\n        \"min\": 25.15222747,\n        \"max\": 81.57901003,\n        \"num_unique_values\": 33,\n        \"samples\": [\n          49.97126112,\n          54.07083324,\n          34.73991796\n        ],\n        \"semantic_type\": \"\",\n        \"description\": \"\"\n      }\n    }\n  ]\n}"
            }
          },
          "metadata": {},
          "execution_count": 81
        }
      ],
      "source": [
        "print(poblacion.shape)\n",
        "poblacion.head()\n"
      ]
    },
    {
      "cell_type": "code",
      "source": [
        "poblacion.info()"
      ],
      "metadata": {
        "colab": {
          "base_uri": "https://localhost:8080/"
        },
        "id": "OAu9U6k_UMY5",
        "outputId": "1cba37c5-b2d3-4d27-adfd-ff54bb9088d7"
      },
      "execution_count": null,
      "outputs": [
        {
          "output_type": "stream",
          "name": "stdout",
          "text": [
            "<class 'pandas.core.frame.DataFrame'>\n",
            "RangeIndex: 33 entries, 0 to 32\n",
            "Data columns (total 8 columns):\n",
            " #   Column                 Non-Null Count  Dtype  \n",
            "---  ------                 --------------  -----  \n",
            " 0   entidad                33 non-null     int64  \n",
            " 1   nom_ent                33 non-null     object \n",
            " 2   pobtot                 33 non-null     int64  \n",
            " 3   pder_imssb             33 non-null     int64  \n",
            " 4   pder_segp              33 non-null     int64  \n",
            " 5   psinder                33 non-null     int64  \n",
            " 6   pob_sin_acceso         33 non-null     int64  \n",
            " 7   porcentaje_sin_acceso  33 non-null     float64\n",
            "dtypes: float64(1), int64(6), object(1)\n",
            "memory usage: 2.2+ KB\n"
          ]
        }
      ]
    },
    {
      "cell_type": "code",
      "execution_count": null,
      "metadata": {
        "colab": {
          "base_uri": "https://localhost:8080/"
        },
        "id": "HO65M8DDIM99",
        "outputId": "aa331f58-50ec-44f5-a046-0958392a119e"
      },
      "outputs": [
        {
          "name": "stdout",
          "output_type": "stream",
          "text": [
            "\n",
            "Columnas en datos de población: ['entidad', 'nom_ent', 'pobtot', 'pder_imssb', 'pder_segp', 'psinder', 'pob_sin_acceso', 'porcentaje_sin_acceso']\n",
            "Columnas en datos geoespaciales: ['CVEGEO', 'CVE_ENT', 'NOMGEO', 'geometry']\n"
          ]
        }
      ],
      "source": [
        "print(\"\\nColumnas en datos de población:\", poblacion.columns.tolist())\n",
        "print(\"Columnas en datos geoespaciales:\", gdf.columns.tolist())"
      ]
    },
    {
      "cell_type": "code",
      "execution_count": null,
      "metadata": {
        "colab": {
          "base_uri": "https://localhost:8080/"
        },
        "id": "nASoPBg2I7AE",
        "outputId": "7e04ca15-3f22-4388-eba2-9fd70df0c7e2"
      },
      "outputs": [
        {
          "name": "stdout",
          "output_type": "stream",
          "text": [
            "\n",
            "Estados en datos de población: ['Total nacional' 'Aguascalientes' 'Baja California' 'Baja California Sur'\n",
            " 'Campeche' 'Coahuila de Zaragoza' 'Colima' 'Chiapas' 'Chihuahua'\n",
            " 'Ciudad de México' 'Durango' 'Guanajuato' 'Guerrero' 'Hidalgo' 'Jalisco'\n",
            " 'México' 'Michoacán de Ocampo' 'Morelos' 'Nayarit' 'Nuevo León' 'Oaxaca'\n",
            " 'Puebla' 'Querétaro' 'Quintana Roo' 'San Luis Potosí' 'Sinaloa' 'Sonora'\n",
            " 'Tabasco' 'Tamaulipas' 'Tlaxcala' 'Veracruz de Ignacio de la Llave'\n",
            " 'Yucatán' 'Zacatecas']\n",
            "Estados en datos geoespaciales: ['Aguascalientes' 'Baja California' 'Baja California Sur' 'Campeche'\n",
            " 'Coahuila de Zaragoza' 'Colima' 'Chiapas' 'Chihuahua' 'Ciudad de México'\n",
            " 'Durango' 'Guanajuato' 'Guerrero' 'Hidalgo' 'Jalisco' 'México'\n",
            " 'Michoacán de Ocampo' 'Morelos' 'Nayarit' 'Nuevo León' 'Oaxaca' 'Puebla'\n",
            " 'Querétaro' 'Quintana Roo' 'San Luis Potosí' 'Sinaloa' 'Sonora' 'Tabasco'\n",
            " 'Tamaulipas' 'Tlaxcala' 'Veracruz de Ignacio de la Llave' 'Yucatán'\n",
            " 'Zacatecas']\n"
          ]
        }
      ],
      "source": [
        "# 4. Unir los datos (asumiendo que 'nom_ent' en CSV corresponde a 'NOMGEO' en GPKG)\n",
        "# Primero, verifiquemos los nombres de los estados en ambos conjuntos\n",
        "print(\"\\nEstados en datos de población:\", poblacion['nom_ent'].unique())\n",
        "print(\"Estados en datos geoespaciales:\", gdf['NOMGEO'].unique())"
      ]
    },
    {
      "cell_type": "code",
      "execution_count": null,
      "metadata": {
        "id": "aZQ9_UCjJDB1"
      },
      "outputs": [],
      "source": [
        "# Hacer coincidir los nombres si es necesario (puede haber diferencias de formato)\n",
        "# En este caso, parecen coincidir, pero verificamos:\n",
        "gdf['NOMGEO'] = gdf['NOMGEO'].str.upper()  # Asegurar mayúsculas\n",
        "poblacion['nom_ent'] = poblacion['nom_ent'].str.upper()"
      ]
    },
    {
      "cell_type": "code",
      "execution_count": null,
      "metadata": {
        "id": "du4pqw-zJK_P"
      },
      "outputs": [],
      "source": [
        "# Unir los datos\n",
        "gdf_merged = gdf.merge(poblacion, left_on='NOMGEO', right_on='nom_ent', how='left')"
      ]
    },
    {
      "cell_type": "code",
      "source": [
        "# Configuración del mapa\n",
        "plt.figure(figsize=(15, 10))\n",
        "gdf_merged.plot(column='porcentaje_sin_acceso',\n",
        "                cmap='OrRd',\n",
        "                legend=True,\n",
        "                edgecolor='black',\n",
        "                linewidth=0)\n",
        "plt.title('Porcentaje de población sin derechohabiencia ')\n",
        "plt.axis('off')\n",
        "\n",
        "# Guardar el mapa como SVG\n",
        "plt.savefig(\"mapa_derechohabiencia.svg\", format=\"svg\", bbox_inches=\"tight\", dpi=300)\n",
        "plt.show()  # Muestra el mapa en Colab\n",
        "\n",
        "# Descargar el archivo SVG desde Colab\n",
        "from google.colab import files\n",
        "files.download(\"mapa_derechohabiencia.svg\")\n"
      ],
      "metadata": {
        "id": "CuajnEnDaa3w",
        "outputId": "05261dfb-807c-47f4-d083-f71dec0342a0",
        "colab": {
          "base_uri": "https://localhost:8080/",
          "height": 423
        }
      },
      "execution_count": null,
      "outputs": [
        {
          "output_type": "display_data",
          "data": {
            "text/plain": [
              "<Figure size 1500x1000 with 0 Axes>"
            ]
          },
          "metadata": {}
        },
        {
          "output_type": "display_data",
          "data": {
            "text/plain": [
              "<Figure size 640x480 with 2 Axes>"
            ],
            "image/png": "[encoded data removed]"
          },
          "metadata": {}
        },
        {
          "output_type": "display_data",
          "data": {
            "text/plain": [
              "<IPython.core.display.Javascript object>"
            ],
            "application/javascript": [
              "\n",
              "    async function download(id, filename, size) {\n",
              "      if (!google.colab.kernel.accessAllowed) {\n",
              "        return;\n",
              "      }\n",
              "      const div = document.createElement('div');\n",
              "      const label = document.createElement('label');\n",
              "      label.textContent = `Downloading \"${filename}\": `;\n",
              "      div.appendChild(label);\n",
              "      const progress = document.createElement('progress');\n",
              "      progress.max = size;\n",
              "      div.appendChild(progress);\n",
              "      document.body.appendChild(div);\n",
              "\n",
              "      const buffers = [];\n",
              "      let downloaded = 0;\n",
              "\n",
              "      const channel = await google.colab.kernel.comms.open(id);\n",
              "      // Send a message to notify the kernel that we're ready.\n",
              "      channel.send({})\n",
              "\n",
              "      for await (const message of channel.messages) {\n",
              "        // Send a message to notify the kernel that we're ready.\n",
              "        channel.send({})\n",
              "        if (message.buffers) {\n",
              "          for (const buffer of message.buffers) {\n",
              "            buffers.push(buffer);\n",
              "            downloaded += buffer.byteLength;\n",
              "            progress.value = downloaded;\n",
              "          }\n",
              "        }\n",
              "      }\n",
              "      const blob = new Blob(buffers, {type: 'application/binary'});\n",
              "      const a = document.createElement('a');\n",
              "      a.href = window.URL.createObjectURL(blob);\n",
              "      a.download = filename;\n",
              "      div.appendChild(a);\n",
              "      a.click();\n",
              "      div.remove();\n",
              "    }\n",
              "  "
            ]
          },
          "metadata": {}
        },
        {
          "output_type": "display_data",
          "data": {
            "text/plain": [
              "<IPython.core.display.Javascript object>"
            ],
            "application/javascript": [
              "download(\"download_25280bfb-a7c9-451a-83c1-3b24066b70a0\", \"mapa_derechohabiencia.svg\", 24720961)"
            ]
          },
          "metadata": {}
        }
      ]
    },
    {
      "cell_type": "code",
      "source": [
        "!sudo apt-get update\n",
        "!sudo apt-get install inkscape\n",
        "!pip install python-pptx"
      ],
      "metadata": {
        "id": "Vis0xbuyfVLz",
        "outputId": "dbfe2eac-96c3-424d-94f0-356245bda73b",
        "colab": {
          "base_uri": "https://localhost:8080/"
        }
      },
      "execution_count": null,
      "outputs": [
        {
          "output_type": "stream",
          "name": "stdout",
          "text": [
            "\r0% [Working]\r            \rHit:1 http://archive.ubuntu.com/ubuntu jammy InRelease\n",
            "\r0% [Waiting for headers] [Waiting for headers] [Connected to r2u.stat.illinois.\r                                                                               \rHit:2 https://cloud.r-project.org/bin/linux/ubuntu jammy-cran40/ InRelease\n",
            "\r                                                                               \rHit:3 https://developer.download.nvidia.com/compute/cuda/repos/ubuntu2204/x86_64  InRelease\n",
            "Hit:4 http://archive.ubuntu.com/ubuntu jammy-updates InRelease\n",
            "Hit:5 http://security.ubuntu.com/ubuntu jammy-security InRelease\n",
            "Hit:6 http://archive.ubuntu.com/ubuntu jammy-backports InRelease\n",
            "Hit:7 https://r2u.stat.illinois.edu/ubuntu jammy InRelease\n",
            "Hit:8 https://ppa.launchpadcontent.net/deadsnakes/ppa/ubuntu jammy InRelease\n",
            "Hit:9 https://ppa.launchpadcontent.net/graphics-drivers/ppa/ubuntu jammy InRelease\n",
            "Hit:10 https://ppa.launchpadcontent.net/ubuntugis/ppa/ubuntu jammy InRelease\n",
            "Reading package lists... Done\n",
            "W: Skipping acquire of configured file 'main/source/Sources' as repository 'https://r2u.stat.illinois.edu/ubuntu jammy InRelease' does not seem to provide it (sources.list entry misspelt?)\n",
            "Reading package lists... Done\n",
            "Building dependency tree... Done\n",
            "Reading state information... Done\n",
            "inkscape is already the newest version (1.1.2-3ubuntu1).\n",
            "0 upgraded, 0 newly installed, 0 to remove and 220 not upgraded.\n",
            "Collecting python-pptx\n",
            "  Downloading python_pptx-1.0.2-py3-none-any.whl.metadata (2.5 kB)\n",
            "Requirement already satisfied: Pillow>=3.3.2 in /usr/local/lib/python3.11/dist-packages (from python-pptx) (11.1.0)\n",
            "Collecting XlsxWriter>=0.5.7 (from python-pptx)\n",
            "  Downloading XlsxWriter-3.2.3-py3-none-any.whl.metadata (2.7 kB)\n",
            "Requirement already satisfied: lxml>=3.1.0 in /usr/local/lib/python3.11/dist-packages (from python-pptx) (5.3.1)\n",
            "Requirement already satisfied: typing-extensions>=4.9.0 in /usr/local/lib/python3.11/dist-packages (from python-pptx) (4.12.2)\n",
            "Downloading python_pptx-1.0.2-py3-none-any.whl (472 kB)\n",
            "\u001b[2K   \u001b[90m━━━━━━━━━━━━━━━━━━━━━━━━━━━━━━━━━━━━━━━━\u001b[0m \u001b[32m472.8/472.8 kB\u001b[0m \u001b[31m5.6 MB/s\u001b[0m eta \u001b[36m0:00:00\u001b[0m\n",
            "\u001b[?25hDownloading XlsxWriter-3.2.3-py3-none-any.whl (169 kB)\n",
            "\u001b[2K   \u001b[90m━━━━━━━━━━━━━━━━━━━━━━━━━━━━━━━━━━━━━━━━\u001b[0m \u001b[32m169.4/169.4 kB\u001b[0m \u001b[31m19.5 MB/s\u001b[0m eta \u001b[36m0:00:00\u001b[0m\n",
            "\u001b[?25hInstalling collected packages: XlsxWriter, python-pptx\n",
            "Successfully installed XlsxWriter-3.2.3 python-pptx-1.0.2\n"
          ]
        }
      ]
    },
    {
      "source": [
        "svg_filename = \"mapa_derechohabiencia.svg\"\n",
        "emf_filename = \"/content/mapa_derechohabiencia.emf\"\n",
        "\n",
        "# Verifica si el archivo SVG existe antes de intentar la conversión\n",
        "import os\n",
        "if os.path.exists(svg_filename):\n",
        "    # Ejecuta el comando inkscape para convertir SVG a EMF\n",
        "    # get_ipython().system is a good way to run shell commands in Colab/IPython\n",
        "    get_ipython().system(f'inkscape {svg_filename} --export-filename={emf_filename}')\n",
        "\n",
        "    # Verifica si el archivo EMF fue creado exitosamente\n",
        "    if os.path.exists(emf_filename):\n",
        "        print(f\"Archivo {emf_filename} creado exitosamente.\")\n",
        "    else:\n",
        "        print(f\"Error: {emf_filename} no fue creado por inkscape. Verifique la salida de inkscape.\")\n",
        "else:\n",
        "    print(f\"Error: Archivo de entrada {svg_filename} no encontrado.\")"
      ],
      "cell_type": "code",
      "metadata": {
        "id": "096pCphOgS2_",
        "outputId": "469be753-a453-4b71-cf32-eb5951837b9f",
        "colab": {
          "base_uri": "https://localhost:8080/"
        }
      },
      "execution_count": null,
      "outputs": [
        {
          "output_type": "stream",
          "name": "stdout",
          "text": [
            "Failed to get connection\n",
            "** (inkscape:50826): \u001b[1;35mCRITICAL\u001b[0m **: \u001b[34m20:01:28.885\u001b[0m: dbus_g_proxy_new_for_name: assertion 'connection != NULL' failed\n",
            "\n",
            "** (inkscape:50826): \u001b[1;35mCRITICAL\u001b[0m **: \u001b[34m20:01:28.885\u001b[0m: dbus_g_proxy_call: assertion 'DBUS_IS_G_PROXY (proxy)' failed\n",
            "\n",
            "** (inkscape:50826): \u001b[1;35mCRITICAL\u001b[0m **: \u001b[34m20:01:28.885\u001b[0m: dbus_g_connection_register_g_object: assertion 'connection != NULL' failed\n",
            "Archivo /content/mapa_derechohabiencia.emf creado exitosamente.\n"
          ]
        }
      ]
    },
    {
      "cell_type": "code",
      "source": [
        "# Descargar el archivo EMF desde Colab si no lo hiciste ya en el paso anterior\n",
        "# Asegúrate de que este archivo exista localmente en tu entorno de Colab\n",
        "emf_filename = \"mapa_derechohabiencia.emf\"\n",
        "# Si el archivo no está en el directorio actual, especifica la ruta completa\n",
        "# Por ejemplo: emf_filename = \"/content/mapa_derechohabiencia.emf\"\n",
        "\n",
        "# --- Nuevo código para crear PowerPoint ---\n",
        "from pptx import Presentation\n",
        "from pptx.util import Inches\n",
        "import os\n",
        "\n",
        "# Verificar si el archivo EMF existe antes de intentar usarlo\n",
        "if os.path.exists(emf_filename):\n",
        "    # Crear una nueva presentación\n",
        "    prs = Presentation()\n",
        "\n",
        "    # Seleccionar un diseño de diapositiva en blanco (el índice 6 suele ser Blank)\n",
        "    blank_slide_layout = prs.slide_layouts[6]\n",
        "    slide = prs.slides.add_slide(blank_slide_layout)\n",
        "\n",
        "    # Añadir la imagen EMF a la diapositiva\n",
        "    # Puedes ajustar la posición (left, top) y el tamaño (width, height) según necesites\n",
        "    left = Inches(0.5)\n",
        "    top = Inches(1.5)\n",
        "    width = Inches(9) # Ajusta esto al tamaño deseado\n",
        "    # height = Inches(7) # Puedes especificar el alto o dejar que se ajuste automáticamente\n",
        "\n",
        "    pic = slide.shapes.add_picture(emf_filename, left, top, width=width)\n",
        "\n",
        "    # Guardar la presentación\n",
        "    pptx_filename = \"presentacion_mapa.pptx\"\n",
        "    prs.save(pptx_filename)\n",
        "\n",
        "    print(f\"Presentación '{pptx_filename}' creada exitosamente con el mapa.\")\n",
        "\n",
        "    # Descargar la presentación desde Colab\n",
        "    from google.colab import files\n",
        "    files.download(pptx_filename)\n",
        "\n",
        "else:\n",
        "    print(f\"Error: El archivo EMF '{emf_filename}' no fue encontrado. Asegúrate de que se creó correctamente en el paso anterior.\")"
      ],
      "metadata": {
        "id": "V9E_a5wRgvZa",
        "outputId": "7b3d3a39-6b7c-40f9-decd-755f9d417d68",
        "colab": {
          "base_uri": "https://localhost:8080/",
          "height": 34
        }
      },
      "execution_count": null,
      "outputs": [
        {
          "output_type": "stream",
          "name": "stdout",
          "text": [
            "Presentación 'presentacion_mapa.pptx' creada exitosamente con el mapa.\n"
          ]
        },
        {
          "output_type": "display_data",
          "data": {
            "text/plain": [
              "<IPython.core.display.Javascript object>"
            ],
            "application/javascript": [
              "\n",
              "    async function download(id, filename, size) {\n",
              "      if (!google.colab.kernel.accessAllowed) {\n",
              "        return;\n",
              "      }\n",
              "      const div = document.createElement('div');\n",
              "      const label = document.createElement('label');\n",
              "      label.textContent = `Downloading \"${filename}\": `;\n",
              "      div.appendChild(label);\n",
              "      const progress = document.createElement('progress');\n",
              "      progress.max = size;\n",
              "      div.appendChild(progress);\n",
              "      document.body.appendChild(div);\n",
              "\n",
              "      const buffers = [];\n",
              "      let downloaded = 0;\n",
              "\n",
              "      const channel = await google.colab.kernel.comms.open(id);\n",
              "      // Send a message to notify the kernel that we're ready.\n",
              "      channel.send({})\n",
              "\n",
              "      for await (const message of channel.messages) {\n",
              "        // Send a message to notify the kernel that we're ready.\n",
              "        channel.send({})\n",
              "        if (message.buffers) {\n",
              "          for (const buffer of message.buffers) {\n",
              "            buffers.push(buffer);\n",
              "            downloaded += buffer.byteLength;\n",
              "            progress.value = downloaded;\n",
              "          }\n",
              "        }\n",
              "      }\n",
              "      const blob = new Blob(buffers, {type: 'application/binary'});\n",
              "      const a = document.createElement('a');\n",
              "      a.href = window.URL.createObjectURL(blob);\n",
              "      a.download = filename;\n",
              "      div.appendChild(a);\n",
              "      a.click();\n",
              "      div.remove();\n",
              "    }\n",
              "  "
            ]
          },
          "metadata": {}
        },
        {
          "output_type": "display_data",
          "data": {
            "text/plain": [
              "<IPython.core.display.Javascript object>"
            ],
            "application/javascript": [
              "download(\"download_7a437603-e4f8-40a0-89b3-718e5fd5f927\", \"presentacion_mapa.pptx\", 284720)"
            ]
          },
          "metadata": {}
        }
      ]
    }
  ],
  "metadata": {
    "colab": {
      "provenance": [],
      "include_colab_link": true
    },
    "kernelspec": {
      "display_name": "Python 3",
      "name": "python3"
    },
    "language_info": {
      "name": "python"
    }
  },
  "nbformat": 4,
  "nbformat_minor": 0
}